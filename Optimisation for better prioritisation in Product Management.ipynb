{
 "cells": [
  {
   "cell_type": "markdown",
   "metadata": {},
   "source": [
    "# What is WSJF (Weighted Shortest Job First) rule in SAFE (Scaled Agile Framework)?"
   ]
  },
  {
   "cell_type": "markdown",
   "metadata": {},
   "source": [
    "You are a product manager in an Agile company. \n",
    "You and your team deliver several 'features' each sprint (period of 2 weeks after which you effectively deliver new features customers can use 'in production' thanks to 'continuous delivery'). \n",
    "But each sprint you have the same challenges: you need to satisfy your clients by 'delivering' what is most important AND you need to make sure your team can handle the workload over 2 weeks in a sustainable and healthy way.\n",
    "Should you prioritise the most critical feature? then what if it is too complex and you end up doing nothing else in the 2 weeks sprint? OR should you prioritise the quickest/easiest features so as to deliver 'a lot'? then what is these features are too low value and do not really benefit customers...\n",
    "Here comes of a specific part of SAFE (Scaled Agile framework, more information here: https://www.scaledagileframework.com/) providing best practices for prioritisation, using 'poker planning' and WSJF (Weighted Shortest Job First, more information here: https://www.scaledagileframework.com/wsjf/)."
   ]
  },
  {
   "cell_type": "markdown",
   "metadata": {},
   "source": [
    "# Formulating the prioritisation question as a 'knapsack problem'"
   ]
  },
  {
   "cell_type": "markdown",
   "metadata": {},
   "source": [
    "This nice coursera video illustrates the well-known knapsack problem: https://www.coursera.org/lecture/discrete-optimization/knapsack-1-intuition-n2TGL. Basically we are trying to fit features (<=> items to pack in the bag) within a limited team workload capacity (<=> size of the bag), each feature having a complexity/job length (<=> items volume) and a business value (<=> items price). Our objective is to deliver maximum value to customers (<=> fill the bag with items so that the total item price is maximum inside the bag)."
   ]
  },
  {
   "cell_type": "markdown",
   "metadata": {},
   "source": [
    "# Is WSJF optimal? actually... it can be improved by 1-2% on average and sometimes up to 30%! (in terms business value per sprint)"
   ]
  },
  {
   "cell_type": "markdown",
   "metadata": {},
   "source": [
    "**Basically WSJF** consists in calculating for each feature the ratio VALUE / COMPLEXITY or to be more accurate: COST OF DELAY / JOB DURATION, then higher this ratio => higher the pirority. It **is a form of Greedy Approach** in optimisation algorithms (density based, since we calculate ~ value/cost). The following sections will **consider another algorithm** regarded as more advanced than greedy approaches, with **objective** to assess WSJF performance (in terms of average value / sprint delivered to customers) and **evaluate the benefits of using something different than WSJF**."
   ]
  },
  {
   "cell_type": "markdown",
   "metadata": {},
   "source": [
    "# It all comes to 'Greedy Vs Branch&Bound' algorithm comparison"
   ]
  },
  {
   "cell_type": "markdown",
   "metadata": {},
   "source": [
    "As we said WSJF is a 'Greedy' algorithm, let's compare it with Branch & Bound for example (great videa here: https://www.coursera.org/learn/discrete-optimization/lecture/66OlO/knapsack-5-relaxation-branch-and-bound). Branch&Bound consists in iteratively exploring a search tree (branching step) while reducing the search space as much as possible by removing sub-parts of the tree (bounding step) in order to reduce complexity of this NP-Complete problem. In the next sections we define the greedy & Branch&Bound functions, simulate the inputs to get as close as possible to what may happen in product management with multiple/heterogeneous features requested each sprint, and run a performance comparison montecarlo-like. So it all comes now to comparing Greedy Vs Branch&bound!"
   ]
  },
  {
   "cell_type": "markdown",
   "metadata": {},
   "source": [
    "## Generating the inputs using Fibonacci scores for 'value' & 'complexity'"
   ]
  },
  {
   "cell_type": "markdown",
   "metadata": {},
   "source": [
    "A good practice in Product Management is to score value & complexity on a specific scale called 'Fibonacci', so that our brain does not struggle with estimations (often a difficult exercice). Indeed I bet you would be challenged to choose between 20 and 21 to assess a complexity score given these numbers are so close... and it becomes harder as the numbers are bigger, e.g. can you choose between 38 and 39? This is why the recommendation is to use specific scale with a growing difference between numbers as the numners are big, just like Fibonacci: 1,2,3,5,8,13... (U(n)=U(n-1)+U(n-2))."
   ]
  },
  {
   "cell_type": "code",
   "execution_count": 40,
   "metadata": {},
   "outputs": [],
   "source": [
    "## Product Owners often use this fibonacci scale to estimate value (more accurately Cost of Delay) Vs complexity (more accurately Job Length)\n",
    "fibonacci = [1,2,3,5,8,13,21,34,55,89]\n",
    "## We will later sample our complexities and values from this list of numbers\n",
    "import random "
   ]
  },
  {
   "cell_type": "code",
   "execution_count": 41,
   "metadata": {},
   "outputs": [],
   "source": [
    "## The paradigm in Agility is that TIME is fixed, CAPACITY is fixed, and only SCOPE can vary (features to develop)\n",
    "## (example: 10 complementary coders in a team)\n",
    "## For the sake of example, let's fix CAPACITY = 100. Our team can deliver 100 points worth of complexity / sprint.\n",
    "capacities = [100]"
   ]
  },
  {
   "cell_type": "markdown",
   "metadata": {},
   "source": [
    "## Greedy algorithm: 'density' based just like WSJF"
   ]
  },
  {
   "cell_type": "code",
   "execution_count": 42,
   "metadata": {},
   "outputs": [],
   "source": [
    "# Inputs for testing\n",
    "#values = [1,2,3,4]\n",
    "#weights = [[4,3,2,1]]\n",
    "#capacities = [4]\n",
    "\n",
    "# Greedy algorithm based on densities\n",
    "def greedy_density(values, weights, capacities):\n",
    "    densities = [[values[i]/float(weights[0][i]), weights[0][i]] for i in range(0,len(values))]\n",
    "    densities = sorted(densities, reverse=True)\n",
    "    total_value_greedy = 0\n",
    "    total_weight_greedy = 0\n",
    "    for i in range(0,len(values)):\n",
    "        ##print(i)\n",
    "        if total_weight_greedy + densities[i][1] <= capacities[0]: ## only if there is still capacity to add the next item\n",
    "            total_weight_greedy += densities[i][1] ## we add the weight of the selected object\n",
    "            total_value_greedy += densities[i][1]*densities[i][0] ## we multiply to get the value = numerator\n",
    "\n",
    "    ##print(\"Total value with Greedy (density based): \", total_value_greedy)\n",
    "    #print(\"Total weight with Greedy (density based): \", total_weight_greedy)\n",
    "    return([total_value_greedy,total_weight_greedy])\n",
    "\n",
    "##greedy_density(values, weights, capacities) ## testing the function"
   ]
  },
  {
   "cell_type": "markdown",
   "metadata": {},
   "source": [
    "## More advanced algorithm: let's use Branch & Bound as a reference"
   ]
  },
  {
   "cell_type": "code",
   "execution_count": 43,
   "metadata": {},
   "outputs": [],
   "source": [
    "# Branch & Bound algorithm\n",
    "from ortools.algorithms import pywrapknapsack_solver\n",
    "\n",
    "def Banch_and_bound(values, weights, capacities):\n",
    "  # Create the solver.\n",
    "    solver = pywrapknapsack_solver.KnapsackSolver(\n",
    "          pywrapknapsack_solver.KnapsackSolver.\n",
    "          KNAPSACK_MULTIDIMENSION_BRANCH_AND_BOUND_SOLVER,\n",
    "          'test')\n",
    "\n",
    "    solver.Init(values, weights, capacities)\n",
    "    computed_value = solver.Solve()\n",
    "\n",
    "    packed_items = [x for x in range(0, len(weights[0]))\n",
    "                      if solver.BestSolutionContains(x)]\n",
    "    packed_weights = [weights[0][i] for i in packed_items]\n",
    "    total_weight= sum(packed_weights)\n",
    "    \n",
    "    ##print(\"Packed items: \", packed_items)\n",
    "    ##print(\"Packed weights: \", packed_weights)\n",
    "    \n",
    "    ##print(\"Total value with Branch&Bound: \", computed_value)\n",
    "    ##print(\"Total weight with Branch&Bound: \", total_weight)\n",
    "    \n",
    "    return([computed_value,total_weight])\n",
    "    ##if __name__ == '__main__':\n",
    "      ##main()\n",
    "\n",
    "## Banch_and_bound(values, weights, capacities) ## testing the function"
   ]
  },
  {
   "cell_type": "markdown",
   "metadata": {},
   "source": [
    "## Montecarlo Simulation: running 1000 different scenarios"
   ]
  },
  {
   "cell_type": "code",
   "execution_count": 50,
   "metadata": {},
   "outputs": [
    {
     "data": {
      "text/html": [
       "<div>\n",
       "<style scoped>\n",
       "    .dataframe tbody tr th:only-of-type {\n",
       "        vertical-align: middle;\n",
       "    }\n",
       "\n",
       "    .dataframe tbody tr th {\n",
       "        vertical-align: top;\n",
       "    }\n",
       "\n",
       "    .dataframe thead th {\n",
       "        text-align: right;\n",
       "    }\n",
       "</style>\n",
       "<table border=\"1\" class=\"dataframe\">\n",
       "  <thead>\n",
       "    <tr style=\"text-align: right;\">\n",
       "      <th></th>\n",
       "      <th>Greedy_value</th>\n",
       "      <th>BranchBound_value</th>\n",
       "    </tr>\n",
       "  </thead>\n",
       "  <tbody>\n",
       "    <tr>\n",
       "      <th>0</th>\n",
       "      <td>173.0</td>\n",
       "      <td>173.0</td>\n",
       "    </tr>\n",
       "    <tr>\n",
       "      <th>1</th>\n",
       "      <td>69.0</td>\n",
       "      <td>70.0</td>\n",
       "    </tr>\n",
       "    <tr>\n",
       "      <th>2</th>\n",
       "      <td>275.0</td>\n",
       "      <td>280.0</td>\n",
       "    </tr>\n",
       "    <tr>\n",
       "      <th>3</th>\n",
       "      <td>161.0</td>\n",
       "      <td>161.0</td>\n",
       "    </tr>\n",
       "    <tr>\n",
       "      <th>4</th>\n",
       "      <td>225.0</td>\n",
       "      <td>225.0</td>\n",
       "    </tr>\n",
       "    <tr>\n",
       "      <th>5</th>\n",
       "      <td>157.0</td>\n",
       "      <td>157.0</td>\n",
       "    </tr>\n",
       "    <tr>\n",
       "      <th>6</th>\n",
       "      <td>228.0</td>\n",
       "      <td>228.0</td>\n",
       "    </tr>\n",
       "    <tr>\n",
       "      <th>7</th>\n",
       "      <td>84.0</td>\n",
       "      <td>90.0</td>\n",
       "    </tr>\n",
       "    <tr>\n",
       "      <th>8</th>\n",
       "      <td>223.0</td>\n",
       "      <td>223.0</td>\n",
       "    </tr>\n",
       "    <tr>\n",
       "      <th>9</th>\n",
       "      <td>477.0</td>\n",
       "      <td>477.0</td>\n",
       "    </tr>\n",
       "    <tr>\n",
       "      <th>10</th>\n",
       "      <td>73.0</td>\n",
       "      <td>73.0</td>\n",
       "    </tr>\n",
       "    <tr>\n",
       "      <th>11</th>\n",
       "      <td>309.0</td>\n",
       "      <td>309.0</td>\n",
       "    </tr>\n",
       "    <tr>\n",
       "      <th>12</th>\n",
       "      <td>220.0</td>\n",
       "      <td>220.0</td>\n",
       "    </tr>\n",
       "    <tr>\n",
       "      <th>13</th>\n",
       "      <td>179.0</td>\n",
       "      <td>179.0</td>\n",
       "    </tr>\n",
       "    <tr>\n",
       "      <th>14</th>\n",
       "      <td>89.0</td>\n",
       "      <td>89.0</td>\n",
       "    </tr>\n",
       "    <tr>\n",
       "      <th>15</th>\n",
       "      <td>351.0</td>\n",
       "      <td>351.0</td>\n",
       "    </tr>\n",
       "    <tr>\n",
       "      <th>16</th>\n",
       "      <td>192.0</td>\n",
       "      <td>192.0</td>\n",
       "    </tr>\n",
       "    <tr>\n",
       "      <th>17</th>\n",
       "      <td>78.0</td>\n",
       "      <td>84.0</td>\n",
       "    </tr>\n",
       "    <tr>\n",
       "      <th>18</th>\n",
       "      <td>303.0</td>\n",
       "      <td>303.0</td>\n",
       "    </tr>\n",
       "    <tr>\n",
       "      <th>19</th>\n",
       "      <td>161.0</td>\n",
       "      <td>161.0</td>\n",
       "    </tr>\n",
       "  </tbody>\n",
       "</table>\n",
       "</div>"
      ],
      "text/plain": [
       "    Greedy_value  BranchBound_value\n",
       "0          173.0              173.0\n",
       "1           69.0               70.0\n",
       "2          275.0              280.0\n",
       "3          161.0              161.0\n",
       "4          225.0              225.0\n",
       "5          157.0              157.0\n",
       "6          228.0              228.0\n",
       "7           84.0               90.0\n",
       "8          223.0              223.0\n",
       "9          477.0              477.0\n",
       "10          73.0               73.0\n",
       "11         309.0              309.0\n",
       "12         220.0              220.0\n",
       "13         179.0              179.0\n",
       "14          89.0               89.0\n",
       "15         351.0              351.0\n",
       "16         192.0              192.0\n",
       "17          78.0               84.0\n",
       "18         303.0              303.0\n",
       "19         161.0              161.0"
      ]
     },
     "execution_count": 50,
     "metadata": {},
     "output_type": "execute_result"
    }
   ],
   "source": [
    "import pandas as pd\n",
    "Performance_comparison = pd.DataFrame(columns=['Greedy_value','BranchBound_value'])\n",
    "\n",
    "for i in range(1000):\n",
    "    ## Montecarlo loop starts here ####################################################\n",
    "    ## Run random sampling to create inputs\n",
    "    values = random.choices(population=fibonacci, k=10) ##[1,2,3,4]\n",
    "    weights = [random.choices(population=fibonacci, k=10)]## [[4,3,2,1]]\n",
    "\n",
    "    ## Run optimisation algorithms\n",
    "    greedy = greedy_density(values, weights, capacities)[0]\n",
    "    branchbound = Banch_and_bound(values, weights, capacities)[0]\n",
    "\n",
    "    ## Add results for comparison\n",
    "    Performance_comparison = Performance_comparison.append({'Greedy_value':greedy, 'BranchBound_value':branchbound},ignore_index=True)\n",
    "    ## Montecarlo loop ends here ####################################################\n",
    "\n",
    "## View results \n",
    "Performance_comparison.head(20) ## only the first 20 rows"
   ]
  },
  {
   "cell_type": "markdown",
   "metadata": {},
   "source": [
    "## Results confirm Branch&Bond performs better by 1-2% on average..."
   ]
  },
  {
   "cell_type": "code",
   "execution_count": 45,
   "metadata": {},
   "outputs": [
    {
     "name": "stderr",
     "output_type": "stream",
     "text": [
      "C:\\Users\\Samir A Ghoudrani\\AppData\\Local\\Continuum\\anaconda3\\lib\\site-packages\\ipykernel_launcher.py:5: DeprecationWarning: \n",
      ".ix is deprecated. Please use\n",
      ".loc for label based indexing or\n",
      ".iloc for positional indexing\n",
      "\n",
      "See the documentation here:\n",
      "http://pandas.pydata.org/pandas-docs/stable/indexing.html#ix-indexer-is-deprecated\n",
      "  \"\"\"\n"
     ]
    },
    {
     "data": {
      "text/plain": [
       "<matplotlib.axes._subplots.AxesSubplot at 0x21d11ac8908>"
      ]
     },
     "execution_count": 45,
     "metadata": {},
     "output_type": "execute_result"
    },
    {
     "data": {
      "image/png": "[encoded data removed]",
      "text/plain": [
       "<Figure size 432x288 with 1 Axes>"
      ]
     },
     "metadata": {},
     "output_type": "display_data"
    }
   ],
   "source": [
    "## Plot distributions\n",
    "import sys\n",
    "import seaborn as sns\n",
    "# Make boxplot for one group only\n",
    "sns.boxplot(data=Performance_comparison.ix[:,0:2])"
   ]
  },
  {
   "cell_type": "code",
   "execution_count": 46,
   "metadata": {},
   "outputs": [
    {
     "data": {
      "text/plain": [
       "197.169"
      ]
     },
     "execution_count": 46,
     "metadata": {},
     "output_type": "execute_result"
    }
   ],
   "source": [
    "import numpy as np\n",
    "np.mean(Performance_comparison['Greedy_value'])"
   ]
  },
  {
   "cell_type": "code",
   "execution_count": 47,
   "metadata": {},
   "outputs": [
    {
     "data": {
      "text/plain": [
       "199.824"
      ]
     },
     "execution_count": 47,
     "metadata": {},
     "output_type": "execute_result"
    }
   ],
   "source": [
    "np.mean(Performance_comparison['BranchBound_value'])"
   ]
  },
  {
   "cell_type": "code",
   "execution_count": 48,
   "metadata": {},
   "outputs": [
    {
     "name": "stdout",
     "output_type": "stream",
     "text": [
      "Avg Percentage of value difference\n",
      "1.3 % more value compared to WSJF, if we use a more advanced optimisation algorithm like Branch&Bound\n"
     ]
    }
   ],
   "source": [
    "print(\"Avg Percentage of value difference\")\n",
    "print(round(100*(np.mean(Performance_comparison['BranchBound_value'])-np.mean(Performance_comparison['Greedy_value']))/np.mean(Performance_comparison['Greedy_value']),1),\"% more value compared to WSJF, if we use a more advanced optimisation algorithm like Branch&Bound\")"
   ]
  },
  {
   "cell_type": "markdown",
   "metadata": {},
   "source": [
    "## ...and even sometimes up to 30% better!"
   ]
  },
  {
   "cell_type": "code",
   "execution_count": 49,
   "metadata": {},
   "outputs": [
    {
     "name": "stderr",
     "output_type": "stream",
     "text": [
      "C:\\Users\\Samir A Ghoudrani\\AppData\\Local\\Continuum\\anaconda3\\lib\\site-packages\\matplotlib\\axes\\_axes.py:6462: UserWarning: The 'normed' kwarg is deprecated, and has been replaced by the 'density' kwarg.\n",
      "  warnings.warn(\"The 'normed' kwarg is deprecated, and has been \"\n"
     ]
    },
    {
     "data": {
      "image/png": "[encoded data removed]",
      "text/plain": [
       "<Figure size 432x288 with 1 Axes>"
      ]
     },
     "metadata": {},
     "output_type": "display_data"
    }
   ],
   "source": [
    "Performance_comparison['Delta'] = round(100*((Performance_comparison['BranchBound_value'])-(Performance_comparison['Greedy_value']))/np.mean(Performance_comparison['Greedy_value']),1)\n",
    "\n",
    "import matplotlib.pyplot as plt\n",
    "%matplotlib inline\n",
    "plt.hist(Performance_comparison['Delta'], normed=True, bins=30)\n",
    "plt.ylabel('Probability');"
   ]
  }
 ],
 "metadata": {
  "kernelspec": {
   "display_name": "Python 3",
   "language": "python",
   "name": "python3"
  },
  "language_info": {
   "codemirror_mode": {
    "name": "ipython",
    "version": 3
   },
   "file_extension": ".py",
   "mimetype": "text/x-python",
   "name": "python",
   "nbconvert_exporter": "python",
   "pygments_lexer": "ipython3",
   "version": "3.6.5"
  }
 },
 "nbformat": 4,
 "nbformat_minor": 2
}
