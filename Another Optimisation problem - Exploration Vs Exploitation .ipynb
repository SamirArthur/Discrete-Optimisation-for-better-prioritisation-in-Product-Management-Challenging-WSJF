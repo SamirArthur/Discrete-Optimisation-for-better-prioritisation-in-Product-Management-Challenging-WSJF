{
 "cells": [
  {
   "cell_type": "markdown",
   "metadata": {},
   "source": [
    "# How to get the best of 1000 Restaurants in only 30 days?"
   ]
  },
  {
   "cell_type": "markdown",
   "metadata": {},
   "source": [
    "You live in a city with 1000 restaurants. Some restaurants are good, others are not and you have no previous knowledge about the quality/value of a restaurant. Should you test all of them then choose your favorite? (full exploration) but what if you are staying only 10 days in the city? Then should you test only 2 or 3 then quickly 'stick' to best one for the next weeks? (full exploitation) but what if you miss much better restaurants just because you did not 'explore' enough, ending up sticking to low value restaurants?"
   ]
  },
  {
   "cell_type": "markdown",
   "metadata": {},
   "source": [
    "# It comes to finding the optimal ratio between Exploration and Exploitation"
   ]
  },
  {
   "cell_type": "markdown",
   "metadata": {},
   "source": [
    "You got it! it is a balance between Exploration (trying new options) and Exploitation (getting maximum benefit from 1 well-known option)."
   ]
  },
  {
   "cell_type": "markdown",
   "metadata": {},
   "source": [
    "# This Optimal Exploration time is 9 days! The Sweet Spot is ~ 30%"
   ]
  },
  {
   "cell_type": "markdown",
   "metadata": {},
   "source": [
    "Actually the Exploration time depends NOT on the number of Restaurants but it DEPENDS ON YOUR TIME. If we assume you are going to the restaurant every day, then you should explore new restaurants during 6 days then stick to the best restaurant among these 6 for the remaining 24 days!\n",
    "\n",
    "Important: we will prove this algorithmically in the simulation below, but this is not a perfect mathematical proof."
   ]
  },
  {
   "cell_type": "markdown",
   "metadata": {},
   "source": [
    "# Algorithmic proof"
   ]
  },
  {
   "cell_type": "markdown",
   "metadata": {},
   "source": [
    "## Assumptions"
   ]
  },
  {
   "cell_type": "markdown",
   "metadata": {},
   "source": [
    "Let's fix some values to be able to run the simulation: 1000 restaurants, 30 days.\n",
    "\n",
    "Important: the result remains ~ the same after testing with different values of N Restaurants and n days. Please feel free to modify parameters and run this simulation."
   ]
  },
  {
   "cell_type": "code",
   "execution_count": 80,
   "metadata": {},
   "outputs": [
    {
     "data": {
      "text/plain": [
       "1000"
      ]
     },
     "execution_count": 80,
     "metadata": {},
     "output_type": "execute_result"
    }
   ],
   "source": [
    "import numpy as np\n",
    "\n",
    "total_number_of_restaurants = 1000\n",
    "total_number_of_times_going_to_restaurant = 30\n",
    "\n",
    "## We affect to values to the restaurant, according to a distribution (uniform here)\n",
    "restaurants = [n for n in range(1,total_number_of_restaurants+1)]\n",
    "len(restaurants)"
   ]
  },
  {
   "cell_type": "markdown",
   "metadata": {},
   "source": [
    "The whole challenge is that restaurants have different values, so let's build a realistic distributions of 'values' for our restaurants (~from 0/10 to 10/10 with average of 5/10). We are using a Normal Distribution with mean = 5 and sd = 2.\n",
    "\n",
    "Important: the result remains ~ the same after testing with different values of mean and sd. Please feel free to modify parameters and run this simulation."
   ]
  },
  {
   "cell_type": "code",
   "execution_count": 81,
   "metadata": {},
   "outputs": [
    {
     "data": {
      "text/plain": [
       "1000"
      ]
     },
     "execution_count": 81,
     "metadata": {},
     "output_type": "execute_result"
    }
   ],
   "source": [
    "## Restaurants with value between 0 and 10, with average = 5/10, and sd=2 here.\n",
    "restaurants = np.random.normal(loc=5, scale=2, size=total_number_of_restaurants)\n",
    "len(restaurants) ## We check we have 1000 restaurants."
   ]
  },
  {
   "cell_type": "code",
   "execution_count": 82,
   "metadata": {},
   "outputs": [
    {
     "data": {
      "text/plain": [
       "4.943503418624576"
      ]
     },
     "execution_count": 82,
     "metadata": {},
     "output_type": "execute_result"
    }
   ],
   "source": [
    "np.mean(restaurants) ## We check that the average value/quality of a restaurant is 5/10."
   ]
  },
  {
   "cell_type": "code",
   "execution_count": 83,
   "metadata": {},
   "outputs": [],
   "source": [
    "import pandas as pd\n",
    "performance_comparison = pd.DataFrame(columns=[\"Ratio_Exploration\",\"Total_Value\"])\n",
    "performance_comparison['Ratio_Exploration'] = performance_comparison['Ratio_Exploration'].astype(int)\n",
    "performance_comparison['Total_Value'] = performance_comparison['Total_Value'].astype(int)"
   ]
  },
  {
   "cell_type": "markdown",
   "metadata": {},
   "source": [
    "## Montecarlo simulation"
   ]
  },
  {
   "cell_type": "markdown",
   "metadata": {},
   "source": [
    "Let's run 1000 simulations (to be able to calculate an average behaviour) trying different Exploration_Ratios:"
   ]
  },
  {
   "cell_type": "code",
   "execution_count": 84,
   "metadata": {},
   "outputs": [],
   "source": [
    "for montercarlo_iteration in range(1,1000):    \n",
    "    ## Iterate over different Exploration Ratios\n",
    "    for number_of_explorations in range(1,total_number_of_times_going_to_restaurant):\n",
    "        restaurants_explored = np.random.choice(restaurants, number_of_explorations, replace=False) ## by default replace=True, but we want replace=False \n",
    "        # (since in the exploration phase, you try each restaurant once only!)\n",
    "\n",
    "        ## Best restaurant\n",
    "        value_best_restaurant = np.max(restaurants_explored)\n",
    "\n",
    "        ## Value from exploration\n",
    "        value_exploration = np.sum(restaurants_explored)\n",
    "\n",
    "        ## Value from exploitation: we choose the best restaurant and 'stick' to it\n",
    "        value_exploitation = (total_number_of_times_going_to_restaurant-number_of_explorations)*value_best_restaurant\n",
    "\n",
    "        ## Total value\n",
    "        total_value = value_exploration + value_exploitation\n",
    "\n",
    "        ## Add results for comparison\n",
    "        performance_comparison = performance_comparison.append({'Ratio_Exploration':number_of_explorations/total_number_of_times_going_to_restaurant, 'Total_Value':total_value},ignore_index=True)\n"
   ]
  },
  {
   "cell_type": "code",
   "execution_count": 85,
   "metadata": {},
   "outputs": [
    {
     "name": "stdout",
     "output_type": "stream",
     "text": [
      "(28971, 2)\n"
     ]
    },
    {
     "data": {
      "text/html": [
       "<div>\n",
       "<style scoped>\n",
       "    .dataframe tbody tr th:only-of-type {\n",
       "        vertical-align: middle;\n",
       "    }\n",
       "\n",
       "    .dataframe tbody tr th {\n",
       "        vertical-align: top;\n",
       "    }\n",
       "\n",
       "    .dataframe thead th {\n",
       "        text-align: right;\n",
       "    }\n",
       "</style>\n",
       "<table border=\"1\" class=\"dataframe\">\n",
       "  <thead>\n",
       "    <tr style=\"text-align: right;\">\n",
       "      <th></th>\n",
       "      <th>Ratio_Exploration</th>\n",
       "      <th>Total_Value</th>\n",
       "    </tr>\n",
       "  </thead>\n",
       "  <tbody>\n",
       "    <tr>\n",
       "      <th>0</th>\n",
       "      <td>0.033333</td>\n",
       "      <td>58.275213</td>\n",
       "    </tr>\n",
       "    <tr>\n",
       "      <th>1</th>\n",
       "      <td>0.066667</td>\n",
       "      <td>159.830575</td>\n",
       "    </tr>\n",
       "    <tr>\n",
       "      <th>2</th>\n",
       "      <td>0.100000</td>\n",
       "      <td>219.126541</td>\n",
       "    </tr>\n",
       "    <tr>\n",
       "      <th>3</th>\n",
       "      <td>0.133333</td>\n",
       "      <td>164.535139</td>\n",
       "    </tr>\n",
       "    <tr>\n",
       "      <th>4</th>\n",
       "      <td>0.166667</td>\n",
       "      <td>248.884805</td>\n",
       "    </tr>\n",
       "  </tbody>\n",
       "</table>\n",
       "</div>"
      ],
      "text/plain": [
       "   Ratio_Exploration  Total_Value\n",
       "0           0.033333    58.275213\n",
       "1           0.066667   159.830575\n",
       "2           0.100000   219.126541\n",
       "3           0.133333   164.535139\n",
       "4           0.166667   248.884805"
      ]
     },
     "execution_count": 85,
     "metadata": {},
     "output_type": "execute_result"
    }
   ],
   "source": [
    "## All observations\n",
    "print(performance_comparison.shape)\n",
    "performance_comparison.head()"
   ]
  },
  {
   "cell_type": "markdown",
   "metadata": {},
   "source": [
    "## Results: 30% seems to be the Optimal Exploration time"
   ]
  },
  {
   "cell_type": "markdown",
   "metadata": {},
   "source": [
    "We can now plot the Total_Value in function of the Exploration_Ratio (all observations):"
   ]
  },
  {
   "cell_type": "code",
   "execution_count": 86,
   "metadata": {},
   "outputs": [
    {
     "data": {
      "image/png": "[encoded data removed]",
      "text/plain": [
       "<Figure size 432x288 with 1 Axes>"
      ]
     },
     "metadata": {},
     "output_type": "display_data"
    }
   ],
   "source": [
    "## Plot Total_Value for each iteration:\n",
    "import matplotlib\n",
    "import matplotlib.pyplot as plt\n",
    "%matplotlib inline\n",
    "plt.scatter(performance_comparison.Ratio_Exploration, performance_comparison.Total_Value)\n",
    "plt.ylabel('Total_Value')\n",
    "plt.xlabel('Exploration_Ratio')\n",
    "plt.show()"
   ]
  },
  {
   "cell_type": "markdown",
   "metadata": {},
   "source": [
    "Keeping only the averages, let's plot again the Total_Value in function of the Exploration_Ratio:"
   ]
  },
  {
   "cell_type": "code",
   "execution_count": 87,
   "metadata": {},
   "outputs": [
    {
     "data": {
      "image/png": "[encoded data removed]",
      "text/plain": [
       "<Figure size 432x288 with 1 Axes>"
      ]
     },
     "metadata": {},
     "output_type": "display_data"
    }
   ],
   "source": [
    "## Summarise by averaging for each specific Number_of_Explorations\n",
    "performance_comparison_averaged = performance_comparison.groupby('Ratio_Exploration').mean()\n",
    "\n",
    "## Plot Exploration_Value in function of the Exploration_Ratio\n",
    "plt.plot(performance_comparison_averaged.Total_Value)\n",
    "plt.ylabel('Total_Value')\n",
    "plt.xlabel('Exploration_Ratio')\n",
    "plt.show()"
   ]
  },
  {
   "cell_type": "markdown",
   "metadata": {},
   "source": [
    "## Adjacent problem: 'Multi-Armed Bandit'"
   ]
  },
  {
   "cell_type": "markdown",
   "metadata": {},
   "source": [
    "We have considered here that 1 restaurant has only 1 constant value, instead of considering that for this restaurant the value may be 6/10 today, 5/10 yesterday, 7/10 tomorrow, i.e. following itself a statistical distributions. In this case it would have been the famous 'Multi-Armed Bandit' problem, here is more information: https://en.wikipedia.org/wiki/Multi-armed_bandit."
   ]
  }
 ],
 "metadata": {
  "kernelspec": {
   "display_name": "Python 3",
   "language": "python",
   "name": "python3"
  },
  "language_info": {
   "codemirror_mode": {
    "name": "ipython",
    "version": 3
   },
   "file_extension": ".py",
   "mimetype": "text/x-python",
   "name": "python",
   "nbconvert_exporter": "python",
   "pygments_lexer": "ipython3",
   "version": "3.6.5"
  }
 },
 "nbformat": 4,
 "nbformat_minor": 2
}
